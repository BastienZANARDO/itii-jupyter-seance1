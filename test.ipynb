{
 "cells": [
  {
   "cell_type": "code",
   "execution_count": 3,
   "metadata": {},
   "outputs": [
    {
     "name": "stdout",
     "output_type": "stream",
     "text": [
      "Séance 1\n"
     ]
    }
   ],
   "source": [
    "print(\"Séance 1\")"
   ]
  },
  {
   "cell_type": "code",
   "execution_count": 22,
   "metadata": {},
   "outputs": [
    {
     "name": "stdout",
     "output_type": "stream",
     "text": [
      "Exo 1\n",
      "Rentrez le rayon : 5\n",
      "Rentrez la hauteur : 6\n",
      "157.07963267948963\n"
     ]
    }
   ],
   "source": [
    "import math\n",
    "print(\"Exo 1\")\n",
    "rayon = int(input(\"Rentrez le rayon : \"))\n",
    "hauteur = int(input (\"Rentrez la hauteur : \"))\n",
    "volume = float((1/3)*rayon*rayon*hauteur*(math.pi))\n",
    "\n",
    "print (volume)\n"
   ]
  },
  {
   "cell_type": "code",
   "execution_count": 38,
   "metadata": {},
   "outputs": [
    {
     "name": "stdout",
     "output_type": "stream",
     "text": [
      "Exo 2\n",
      "3\n",
      "0\n",
      "1\n",
      "9\n",
      "36\n",
      "36\n"
     ]
    }
   ],
   "source": [
    "import math\n",
    "print (\"Exo 2\")\n",
    "\n",
    "n = int(input())\n",
    "S=0\n",
    "\n",
    "for i in range(n+1) :\n",
    "    S = S + (pow(i,3))\n",
    "    print(S)\n",
    "print (S)"
   ]
  }
 ],
 "metadata": {
  "kernelspec": {
   "display_name": "Python 3",
   "language": "python",
   "name": "python3"
  },
  "language_info": {
   "codemirror_mode": {
    "name": "ipython",
    "version": 3
   },
   "file_extension": ".py",
   "mimetype": "text/x-python",
   "name": "python",
   "nbconvert_exporter": "python",
   "pygments_lexer": "ipython3",
   "version": "3.7.6"
  }
 },
 "nbformat": 4,
 "nbformat_minor": 4
}

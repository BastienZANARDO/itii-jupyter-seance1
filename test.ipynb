{
 "cells": [
  {
   "cell_type": "code",
   "execution_count": 3,
   "metadata": {},
   "outputs": [
    {
     "name": "stdout",
     "output_type": "stream",
     "text": [
      "Séance 1\n"
     ]
    }
   ],
   "source": [
    "print(\"Séance 1\")"
   ]
  },
  {
   "cell_type": "code",
   "execution_count": 22,
   "metadata": {},
   "outputs": [
    {
     "name": "stdout",
     "output_type": "stream",
     "text": [
      "Exo 1\n",
      "Rentrez le rayon : 5\n",
      "Rentrez la hauteur : 6\n",
      "157.07963267948963\n"
     ]
    }
   ],
   "source": [
    "import math\n",
    "print(\"Exo 1\")\n",
    "rayon = int(input(\"Rentrez le rayon : \"))\n",
    "hauteur = int(input (\"Rentrez la hauteur : \"))\n",
    "volume = float((1/3)*rayon*rayon*hauteur*(math.pi))\n",
    "\n",
    "print (volume)\n"
   ]
  },
  {
   "cell_type": "code",
   "execution_count": 40,
   "metadata": {},
   "outputs": [
    {
     "name": "stdout",
     "output_type": "stream",
     "text": [
      "Exo 2\n",
      "3\n",
      "36\n"
     ]
    }
   ],
   "source": [
    "import math\n",
    "print (\"Exo 2\")\n",
    "\n",
    "n = int(input())\n",
    "S=0\n",
    "\n",
    "for i in range(n+1) :\n",
    "    S += i**3\n",
    "print (S)"
   ]
  },
  {
   "cell_type": "code",
   "execution_count": 42,
   "metadata": {},
   "outputs": [
    {
     "name": "stdout",
     "output_type": "stream",
     "text": [
      "Exo 2 part 2\n",
      "3\n",
      "6\n"
     ]
    }
   ],
   "source": [
    "import math\n",
    "print (\"Exo 2 part 2\")\n",
    "\n",
    "n = int(input())\n",
    "S=0\n",
    "\n",
    "for i in range(n+1) :\n",
    "    S += i\n",
    "print (S)"
   ]
  },
  {
   "cell_type": "code",
   "execution_count": 44,
   "metadata": {},
   "outputs": [
    {
     "ename": "SyntaxError",
     "evalue": "can't assign to function call (<ipython-input-44-1296ecaabd80>, line 4)",
     "output_type": "error",
     "traceback": [
      "\u001b[1;36m  File \u001b[1;32m\"<ipython-input-44-1296ecaabd80>\"\u001b[1;36m, line \u001b[1;32m4\u001b[0m\n\u001b[1;33m    str (var) = var + str(i)\u001b[0m\n\u001b[1;37m    ^\u001b[0m\n\u001b[1;31mSyntaxError\u001b[0m\u001b[1;31m:\u001b[0m can't assign to function call\n"
     ]
    }
   ],
   "source": [
    "n= 999\n",
    "i=0\n",
    "for i in range (n):\n",
    "    str (var) = var + str(i)\n",
    "print(len(1))"
   ]
  }
 ],
 "metadata": {
  "kernelspec": {
   "display_name": "Python 3",
   "language": "python",
   "name": "python3"
  },
  "language_info": {
   "codemirror_mode": {
    "name": "ipython",
    "version": 3
   },
   "file_extension": ".py",
   "mimetype": "text/x-python",
   "name": "python",
   "nbconvert_exporter": "python",
   "pygments_lexer": "ipython3",
   "version": "3.7.6"
  }
 },
 "nbformat": 4,
 "nbformat_minor": 4
}
